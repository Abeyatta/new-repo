{
  "nbformat": 4,
  "nbformat_minor": 0,
  "metadata": {
    "colab": {
      "name": "git_test.ipynb",
      "provenance": [],
      "authorship_tag": "ABX9TyOmuAYlQvauxZ9aTrlPLw/M",
      "include_colab_link": true
    },
    "kernelspec": {
      "name": "python3",
      "display_name": "Python 3"
    },
    "language_info": {
      "name": "python"
    }
  },
  "cells": [
    {
      "cell_type": "markdown",
      "metadata": {
        "id": "view-in-github",
        "colab_type": "text"
      },
      "source": [
        "<a href=\"https://colab.research.google.com/github/Abeyatta/new-repo/blob/master/git_test.ipynb\" target=\"_parent\"><img src=\"https://colab.research.google.com/assets/colab-badge.svg\" alt=\"Open In Colab\"/></a>"
      ]
    },
    {
      "cell_type": "code",
      "metadata": {
        "colab": {
          "base_uri": "https://localhost:8080/"
        },
        "id": "hDGD63b_wbHO",
        "outputId": "a80be5c8-936b-4905-905d-c09f0ba6abb0"
      },
      "source": [
        "from google.colab import drive\n",
        "drive.mount('/content/drive')"
      ],
      "execution_count": null,
      "outputs": [
        {
          "output_type": "stream",
          "text": [
            "Mounted at /content/drive\n"
          ],
          "name": "stdout"
        }
      ]
    },
    {
      "cell_type": "code",
      "metadata": {
        "colab": {
          "base_uri": "https://localhost:8080/"
        },
        "id": "kn_9qeUpwafT",
        "outputId": "bdf0b9a4-d1f7-406b-cfc9-e055588584d0"
      },
      "source": [
        "# first print out\n",
        "print('Hello World')\n",
        "def sum_even(n):\n",
        "    sum_ev = 0\n",
        "    for i in range(1, n):\n",
        "        if i % 2 == 0:\n",
        "           sum_ev += i\n",
        "    return sum_ev"
      ],
      "execution_count": null,
      "outputs": [
        {
          "output_type": "stream",
          "text": [
            "Hello World\n"
          ],
          "name": "stdout"
        }
      ]
    },
    {
      "cell_type": "code",
      "metadata": {
        "id": "bTP_os_nwlZF"
      },
      "source": [
        "# new git test"
      ],
      "execution_count": null,
      "outputs": []
    }
  ]
}